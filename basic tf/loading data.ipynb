{
 "cells": [
  {
   "cell_type": "code",
   "execution_count": 1,
   "metadata": {
    "ExecuteTime": {
     "end_time": "2019-01-14T06:12:01.477675Z",
     "start_time": "2019-01-14T06:12:00.201171Z"
    }
   },
   "outputs": [],
   "source": [
    "import tensorflow as tf \n",
    "tf.enable_eager_execution()"
   ]
  },
  {
   "cell_type": "code",
   "execution_count": 2,
   "metadata": {
    "ExecuteTime": {
     "end_time": "2019-01-14T06:12:03.005244Z",
     "start_time": "2019-01-14T06:12:02.483223Z"
    }
   },
   "outputs": [
    {
     "name": "stdout",
     "output_type": "stream",
     "text": [
      "[(<tf.Tensor: id=68, shape=(), dtype=int32, numpy=2596>, <tf.Tensor: id=69, shape=(), dtype=int32, numpy=51>, <tf.Tensor: id=70, shape=(), dtype=int32, numpy=3>, <tf.Tensor: id=71, shape=(), dtype=int32, numpy=258>, <tf.Tensor: id=72, shape=(), dtype=int32, numpy=0>, <tf.Tensor: id=73, shape=(), dtype=int32, numpy=510>, <tf.Tensor: id=74, shape=(), dtype=int32, numpy=221>, <tf.Tensor: id=75, shape=(), dtype=int32, numpy=232>, <tf.Tensor: id=76, shape=(), dtype=int32, numpy=148>, <tf.Tensor: id=77, shape=(), dtype=int32, numpy=6279>, <tf.Tensor: id=78, shape=(), dtype=int32, numpy=1>, <tf.Tensor: id=79, shape=(), dtype=int32, numpy=0>, <tf.Tensor: id=80, shape=(), dtype=int32, numpy=0>, <tf.Tensor: id=81, shape=(), dtype=int32, numpy=0>, <tf.Tensor: id=82, shape=(), dtype=int32, numpy=0>, <tf.Tensor: id=83, shape=(), dtype=int32, numpy=0>, <tf.Tensor: id=84, shape=(), dtype=int32, numpy=0>, <tf.Tensor: id=85, shape=(), dtype=int32, numpy=0>, <tf.Tensor: id=86, shape=(), dtype=int32, numpy=0>, <tf.Tensor: id=87, shape=(), dtype=int32, numpy=0>, <tf.Tensor: id=88, shape=(), dtype=int32, numpy=0>, <tf.Tensor: id=89, shape=(), dtype=int32, numpy=0>, <tf.Tensor: id=90, shape=(), dtype=int32, numpy=0>, <tf.Tensor: id=91, shape=(), dtype=int32, numpy=0>, <tf.Tensor: id=92, shape=(), dtype=int32, numpy=0>, <tf.Tensor: id=93, shape=(), dtype=int32, numpy=0>, <tf.Tensor: id=94, shape=(), dtype=int32, numpy=0>, <tf.Tensor: id=95, shape=(), dtype=int32, numpy=0>, <tf.Tensor: id=96, shape=(), dtype=int32, numpy=0>, <tf.Tensor: id=97, shape=(), dtype=int32, numpy=0>, <tf.Tensor: id=98, shape=(), dtype=int32, numpy=0>, <tf.Tensor: id=99, shape=(), dtype=int32, numpy=0>, <tf.Tensor: id=100, shape=(), dtype=int32, numpy=0>, <tf.Tensor: id=101, shape=(), dtype=int32, numpy=0>, <tf.Tensor: id=102, shape=(), dtype=int32, numpy=0>, <tf.Tensor: id=103, shape=(), dtype=int32, numpy=0>, <tf.Tensor: id=104, shape=(), dtype=int32, numpy=0>, <tf.Tensor: id=105, shape=(), dtype=int32, numpy=0>, <tf.Tensor: id=106, shape=(), dtype=int32, numpy=0>, <tf.Tensor: id=107, shape=(), dtype=int32, numpy=0>, <tf.Tensor: id=108, shape=(), dtype=int32, numpy=0>, <tf.Tensor: id=109, shape=(), dtype=int32, numpy=0>, <tf.Tensor: id=110, shape=(), dtype=int32, numpy=1>, <tf.Tensor: id=111, shape=(), dtype=int32, numpy=0>, <tf.Tensor: id=112, shape=(), dtype=int32, numpy=0>, <tf.Tensor: id=113, shape=(), dtype=int32, numpy=0>, <tf.Tensor: id=114, shape=(), dtype=int32, numpy=0>, <tf.Tensor: id=115, shape=(), dtype=int32, numpy=0>, <tf.Tensor: id=116, shape=(), dtype=int32, numpy=0>, <tf.Tensor: id=117, shape=(), dtype=int32, numpy=0>, <tf.Tensor: id=118, shape=(), dtype=int32, numpy=0>, <tf.Tensor: id=119, shape=(), dtype=int32, numpy=0>, <tf.Tensor: id=120, shape=(), dtype=int32, numpy=0>, <tf.Tensor: id=121, shape=(), dtype=int32, numpy=0>, <tf.Tensor: id=122, shape=(), dtype=int32, numpy=5>)]\n"
     ]
    }
   ],
   "source": [
    "defaults = [tf.int32] * 55 \n",
    "dataset = tf.data.experimental.CsvDataset(['./data/covtype.data'], defaults)\n",
    "# dataset = tf.contrib.data.CsvDataset(['./data/covtype.data'], defaults)\n",
    "print(list(dataset.take(1)))"
   ]
  },
  {
   "cell_type": "markdown",
   "metadata": {},
   "source": [
    " ```\n",
    " 1)Elevation                               quantitative    meters                       Elevation in meters\n",
    " 2)Aspect                                  quantitative    azimuth                      Aspect in degrees azimuth\n",
    " 3)Slope                                   quantitative    degrees                      Slope in degrees\n",
    " 4)Horizontal_Distance_To_Hydrology        quantitative    meters                       Horz Dist to nearest  surface water features\n",
    " 5)Vertical_Distance_To_Hydrology          quantitative    meters                       Vert Dist to nearest  surface water features\n",
    " 6)Horizontal_Distance_To_Roadways         quantitative    meters                       Horz Dist to nearest roadway\n",
    " 7)Hillshade_9am                           quantitative    0 to 255 index               Hillshade index at 9am, summer solstice\n",
    " 8)Hillshade_Noon                          quantitative    0 to 255 index               Hillshade index at noon, summer soltice\n",
    " 9)Hillshade_3pm                           quantitative    0 to 255 index               Hillshade index at 3pm, summer solstice\n",
    " 10)Horizontal_Distance_To_Fire_Points      quantitative    meters                       Horz Dist to nearest wildfire ignition points\n",
    " 11)Wilderness_Area (4 binary columns)      qualitative     0 (absence) or 1 (presence)  Wilderness area designation\n",
    " 12)Soil_Type (40 binary columns)           qualitative     0 (absence) or 1 (presence)  Soil Type designation\n",
    " 13)Cover_Type (7 types)                    integer         1 to 7                       Forest Cover Type designation\n",
    " ```"
   ]
  },
  {
   "cell_type": "code",
   "execution_count": 3,
   "metadata": {
    "ExecuteTime": {
     "end_time": "2019-01-14T06:12:05.569716Z",
     "start_time": "2019-01-14T06:12:05.560250Z"
    }
   },
   "outputs": [],
   "source": [
    "col_names = ['Elevation','Aspect', 'Slope', 'Horizontal_Distance_To_Hydrology', 'Vertical_Distance_To_Hydrology',\n",
    "             'Horizontal_Distance_To_Roadways', 'Hillshade_9am', 'Hillshade_Noon', 'Hillshade_3pm', \n",
    "             'Horizontal_Distance_To_Fire_Points','Soil_Type','Cover_Type'] # no Wilderness_Area\n",
    "\n",
    "def _parse_csv_row(*vals):\n",
    "    soil_type_t = tf.convert_to_tensor(vals[14:54])\n",
    "    #print(\"input data:\" , vals)\n",
    "    #print(vals[54])\n",
    "    feat_vals = vals[:10] + (soil_type_t,vals[54])\n",
    "    features = dict(zip(col_names, feat_vals))\n",
    "    \n",
    "    class_label = tf.argmax(vals[10:14], axis=0)\n",
    "    return features, class_label"
   ]
  },
  {
   "cell_type": "code",
   "execution_count": 4,
   "metadata": {
    "ExecuteTime": {
     "end_time": "2019-01-14T06:12:06.532543Z",
     "start_time": "2019-01-14T06:12:06.444190Z"
    }
   },
   "outputs": [
    {
     "name": "stdout",
     "output_type": "stream",
     "text": [
      "input data: (<tf.Tensor 'arg0:0' shape=() dtype=int32>, <tf.Tensor 'arg1:0' shape=() dtype=int32>, <tf.Tensor 'arg2:0' shape=() dtype=int32>, <tf.Tensor 'arg3:0' shape=() dtype=int32>, <tf.Tensor 'arg4:0' shape=() dtype=int32>, <tf.Tensor 'arg5:0' shape=() dtype=int32>, <tf.Tensor 'arg6:0' shape=() dtype=int32>, <tf.Tensor 'arg7:0' shape=() dtype=int32>, <tf.Tensor 'arg8:0' shape=() dtype=int32>, <tf.Tensor 'arg9:0' shape=() dtype=int32>, <tf.Tensor 'arg10:0' shape=() dtype=int32>, <tf.Tensor 'arg11:0' shape=() dtype=int32>, <tf.Tensor 'arg12:0' shape=() dtype=int32>, <tf.Tensor 'arg13:0' shape=() dtype=int32>, <tf.Tensor 'arg14:0' shape=() dtype=int32>, <tf.Tensor 'arg15:0' shape=() dtype=int32>, <tf.Tensor 'arg16:0' shape=() dtype=int32>, <tf.Tensor 'arg17:0' shape=() dtype=int32>, <tf.Tensor 'arg18:0' shape=() dtype=int32>, <tf.Tensor 'arg19:0' shape=() dtype=int32>, <tf.Tensor 'arg20:0' shape=() dtype=int32>, <tf.Tensor 'arg21:0' shape=() dtype=int32>, <tf.Tensor 'arg22:0' shape=() dtype=int32>, <tf.Tensor 'arg23:0' shape=() dtype=int32>, <tf.Tensor 'arg24:0' shape=() dtype=int32>, <tf.Tensor 'arg25:0' shape=() dtype=int32>, <tf.Tensor 'arg26:0' shape=() dtype=int32>, <tf.Tensor 'arg27:0' shape=() dtype=int32>, <tf.Tensor 'arg28:0' shape=() dtype=int32>, <tf.Tensor 'arg29:0' shape=() dtype=int32>, <tf.Tensor 'arg30:0' shape=() dtype=int32>, <tf.Tensor 'arg31:0' shape=() dtype=int32>, <tf.Tensor 'arg32:0' shape=() dtype=int32>, <tf.Tensor 'arg33:0' shape=() dtype=int32>, <tf.Tensor 'arg34:0' shape=() dtype=int32>, <tf.Tensor 'arg35:0' shape=() dtype=int32>, <tf.Tensor 'arg36:0' shape=() dtype=int32>, <tf.Tensor 'arg37:0' shape=() dtype=int32>, <tf.Tensor 'arg38:0' shape=() dtype=int32>, <tf.Tensor 'arg39:0' shape=() dtype=int32>, <tf.Tensor 'arg40:0' shape=() dtype=int32>, <tf.Tensor 'arg41:0' shape=() dtype=int32>, <tf.Tensor 'arg42:0' shape=() dtype=int32>, <tf.Tensor 'arg43:0' shape=() dtype=int32>, <tf.Tensor 'arg44:0' shape=() dtype=int32>, <tf.Tensor 'arg45:0' shape=() dtype=int32>, <tf.Tensor 'arg46:0' shape=() dtype=int32>, <tf.Tensor 'arg47:0' shape=() dtype=int32>, <tf.Tensor 'arg48:0' shape=() dtype=int32>, <tf.Tensor 'arg49:0' shape=() dtype=int32>, <tf.Tensor 'arg50:0' shape=() dtype=int32>, <tf.Tensor 'arg51:0' shape=() dtype=int32>, <tf.Tensor 'arg52:0' shape=() dtype=int32>, <tf.Tensor 'arg53:0' shape=() dtype=int32>, <tf.Tensor 'arg54:0' shape=() dtype=int32>)\n",
      "[({'Elevation': <tf.Tensor: id=314, shape=(64,), dtype=int32, numpy=\n",
      "array([2596, 2590, 2804, 2785, 2595, 2579, 2606, 2605, 2617, 2612, 2612,\n",
      "       2886, 2742, 2609, 2503, 2495, 2610, 2517, 2504, 2503, 2501, 2880,\n",
      "       2768, 2511, 2507, 2492, 2489, 2962, 2811, 2739, 2703, 2522, 2519,\n",
      "       2516, 2515, 2900, 2709, 2511, 2749, 2686, 2699, 2570, 2533, 2703,\n",
      "       2678, 2529, 2524, 2536, 2498, 2489, 2713, 2739, 2696, 2510, 2502,\n",
      "       2722, 2500, 2486, 2489, 2489, 2490, 2952, 2705, 2507], dtype=int32)>, 'Aspect': <tf.Tensor: id=312, shape=(64,), dtype=int32, numpy=\n",
      "array([ 51,  56, 139, 155,  45, 132,  45,  49,  45,  59, 201, 151, 134,\n",
      "       214, 157,  51, 259,  72,   0,  38,  71, 209, 114,  54,  22, 135,\n",
      "       163, 148, 135, 117, 122, 105, 102,  23,  41,  45, 125,  92,  98,\n",
      "       354, 347, 346,  71, 330, 128,  68,  94,  99,  66, 100, 117, 323,\n",
      "        72,  79,  81, 315,  74,  68,  11,  42,  75, 107,  90,  40],\n",
      "      dtype=int32)>, 'Slope': <tf.Tensor: id=321, shape=(64,), dtype=int32, numpy=\n",
      "array([ 3,  2,  9, 18,  2,  6,  7,  4,  9, 10,  4, 11, 22,  7,  4,  7,  1,\n",
      "        7,  4,  5,  9, 17, 23,  8,  9,  6, 10, 16,  1, 24, 30,  7,  6,  6,\n",
      "        9, 19, 28,  7, 30, 12,  3,  2,  9, 27,  5,  8,  7,  6,  6,  7, 30,\n",
      "       25,  2, 14,  7, 24, 11,  5,  4,  6,  5, 11,  8,  7], dtype=int32)>, 'Horizontal_Distance_To_Hydrology': <tf.Tensor: id=319, shape=(64,), dtype=int32, numpy=\n",
      "array([258, 212, 268, 242, 153, 300, 270, 234, 240, 247, 180, 371, 150,\n",
      "       150,  67,  42, 120,  85,  95,  85,  60, 216, 192, 124, 120,   0,\n",
      "        30, 323, 212, 127,  67, 120, 124, 150, 162, 242,  67, 182, 124,\n",
      "         0,   0,   0, 150,  30,  95, 210, 212, 234,  95,  85,  60,  85,\n",
      "        30, 192, 175,  30, 190, 180, 175, 162, 134,  42, 134, 153],\n",
      "      dtype=int32)>, 'Vertical_Distance_To_Hydrology': <tf.Tensor: id=323, shape=(64,), dtype=int32, numpy=\n",
      "array([  0,  -6,  65, 118,  -1, -15,   5,   7,  56,  11,  51,  26,  69,\n",
      "        46,   4,   2,  -1,   6,   5,  10,   8,  30,  82,   0,  14,   0,\n",
      "        -4,  23,  30,  53,  27,   1,   4,   4,   4,  20,  23,  18,  53,\n",
      "         0,   0,   0,  -3,  17,  23,  -5,  -4,   0,   7,  13,  17,  43,\n",
      "         0,  19,  11,  19,   9,  -4,  13,  13,  17,   7,  22,  10],\n",
      "      dtype=int32)>, 'Horizontal_Distance_To_Roadways': <tf.Tensor: id=320, shape=(64,), dtype=int32, numpy=\n",
      "array([ 510,  390, 3180, 3090,  391,   67,  633,  573,  666,  636,  735,\n",
      "       5253, 3215,  771,  674,  752,  607,  595,  691,  741,  767, 4986,\n",
      "       3339,  638,  732,  860,  849, 5916, 3670, 3281, 3191,  595,  616,\n",
      "        658,  680, 5199, 3224,  722, 3316, 3167, 2096,  331,  577, 3141,\n",
      "       1660,  666,  684,  659,  900,  810, 3297, 3118, 3271,  891,  912,\n",
      "       3216,  930,  870,  840,  810,  810, 5845, 2023,  930], dtype=int32)>, 'Hillshade_9am': <tf.Tensor: id=316, shape=(64,), dtype=int32, numpy=\n",
      "array([221, 220, 234, 238, 220, 230, 222, 222, 223, 228, 218, 234, 248,\n",
      "       213, 224, 224, 216, 228, 214, 220, 230, 206, 252, 225, 215, 229,\n",
      "       230, 240, 220, 253, 254, 233, 230, 216, 221, 221, 253, 231, 252,\n",
      "       200, 213, 215, 230, 146, 229, 228, 232, 230, 227, 232, 254, 149,\n",
      "       222, 237, 230, 148, 233, 225, 216, 221, 227, 239, 232, 221],\n",
      "      dtype=int32)>, 'Hillshade_Noon': <tf.Tensor: id=317, shape=(64,), dtype=int32, numpy=\n",
      "array([232, 235, 238, 238, 234, 237, 225, 230, 221, 219, 243, 240, 224,\n",
      "       247, 240, 225, 239, 227, 232, 228, 223, 253, 209, 222, 221, 237,\n",
      "       243, 236, 238, 210, 201, 231, 233, 227, 220, 195, 207, 229, 183,\n",
      "       219, 234, 235, 223, 197, 236, 225, 229, 232, 227, 231, 198, 205,\n",
      "       234, 215, 227, 212, 219, 230, 232, 227, 230, 226, 228, 224],\n",
      "      dtype=int32)>, 'Hillshade_3pm': <tf.Tensor: id=315, shape=(64,), dtype=int32, numpy=\n",
      "array([148, 151, 135, 122, 150, 140, 138, 144, 133, 124, 161, 136,  92,\n",
      "       170, 151, 137, 161, 133, 156, 144, 126, 179,  71, 130, 143, 142,\n",
      "       145, 120, 154,  71,  52, 130, 137, 147, 133, 100,  61, 131,  36,\n",
      "       157, 159, 158, 126, 184, 141, 130, 130, 136, 135, 131,  48, 192,\n",
      "       149, 106, 129, 200, 116, 139, 153, 141, 137, 116, 129, 138],\n",
      "      dtype=int32)>, 'Horizontal_Distance_To_Fire_Points': <tf.Tensor: id=318, shape=(64,), dtype=int32, numpy=\n",
      "array([6279, 6225, 6121, 6211, 6172, 6031, 6256, 6228, 6244, 6230, 6222,\n",
      "       4051, 6091, 6211, 5600, 5576, 6096, 5607, 5572, 5555, 5547, 4323,\n",
      "       5972, 5569, 5534, 5494, 5486, 3395, 5643, 6033, 6123, 5569, 5559,\n",
      "       5541, 5532, 4115, 6094, 5494, 6005, 6155, 6853, 5745, 5552, 6186,\n",
      "       6546, 5484, 5474, 5475, 5357, 5334, 6039, 6219, 6071, 5325, 5316,\n",
      "       6132, 5279, 5262, 5254, 5247, 5218, 3509, 6615, 5221], dtype=int32)>, 'Soil_Type': <tf.Tensor: id=322, shape=(64, 40), dtype=int32, numpy=\n",
      "array([[0, 0, 0, ..., 0, 0, 0],\n",
      "       [0, 0, 0, ..., 0, 0, 0],\n",
      "       [0, 0, 0, ..., 0, 0, 0],\n",
      "       ...,\n",
      "       [0, 0, 0, ..., 0, 0, 0],\n",
      "       [0, 0, 0, ..., 0, 0, 0],\n",
      "       [0, 0, 0, ..., 0, 0, 0]], dtype=int32)>, 'Cover_Type': <tf.Tensor: id=313, shape=(64,), dtype=int32, numpy=\n",
      "array([5, 5, 2, 2, 5, 2, 5, 5, 5, 5, 5, 2, 2, 5, 5, 5, 5, 5, 5, 5, 5, 2,\n",
      "       5, 5, 5, 5, 5, 2, 2, 5, 5, 5, 5, 5, 5, 2, 5, 5, 5, 5, 1, 2, 5, 5,\n",
      "       2, 5, 5, 5, 5, 5, 5, 1, 1, 5, 5, 1, 5, 5, 5, 5, 5, 2, 2, 5],\n",
      "      dtype=int32)>}, <tf.Tensor: id=324, shape=(64,), dtype=int64, numpy=\n",
      "array([0, 0, 0, 0, 0, 0, 0, 0, 0, 0, 0, 0, 0, 0, 0, 0, 0, 0, 0, 0, 0, 0,\n",
      "       0, 0, 0, 0, 0, 0, 0, 0, 0, 0, 0, 0, 0, 0, 0, 0, 0, 0, 0, 0, 0, 0,\n",
      "       0, 0, 0, 0, 0, 0, 0, 0, 0, 0, 0, 0, 0, 0, 0, 0, 0, 0, 0, 0])>)]\n"
     ]
    }
   ],
   "source": [
    "dataset = dataset.map(_parse_csv_row).batch(64)\n",
    "print(list(dataset.take(1)))"
   ]
  },
  {
   "cell_type": "code",
   "execution_count": null,
   "metadata": {},
   "outputs": [],
   "source": []
  }
 ],
 "metadata": {
  "kernelspec": {
   "display_name": "Python 3",
   "language": "python",
   "name": "python3"
  },
  "language_info": {
   "codemirror_mode": {
    "name": "ipython",
    "version": 3
   },
   "file_extension": ".py",
   "mimetype": "text/x-python",
   "name": "python",
   "nbconvert_exporter": "python",
   "pygments_lexer": "ipython3",
   "version": "3.6.7"
  },
  "varInspector": {
   "cols": {
    "lenName": 16,
    "lenType": 16,
    "lenVar": 40
   },
   "kernels_config": {
    "python": {
     "delete_cmd_postfix": "",
     "delete_cmd_prefix": "del ",
     "library": "var_list.py",
     "varRefreshCmd": "print(var_dic_list())"
    },
    "r": {
     "delete_cmd_postfix": ") ",
     "delete_cmd_prefix": "rm(",
     "library": "var_list.r",
     "varRefreshCmd": "cat(var_dic_list()) "
    }
   },
   "types_to_exclude": [
    "module",
    "function",
    "builtin_function_or_method",
    "instance",
    "_Feature"
   ],
   "window_display": false
  }
 },
 "nbformat": 4,
 "nbformat_minor": 2
}
