{
 "cells": [
  {
   "cell_type": "code",
   "execution_count": 1,
   "metadata": {
    "ExecuteTime": {
     "end_time": "2019-07-15T12:28:36.421934Z",
     "start_time": "2019-07-15T12:28:36.416678Z"
    }
   },
   "outputs": [],
   "source": [
    "import tensorflow as tf \n",
    "from tensorflow import keras\n",
    "from tensorflow.keras import layers"
   ]
  },
  {
   "cell_type": "code",
   "execution_count": 2,
   "metadata": {
    "ExecuteTime": {
     "end_time": "2019-07-15T12:30:08.824840Z",
     "start_time": "2019-07-15T12:30:08.698473Z"
    }
   },
   "outputs": [],
   "source": [
    "# The Embedding layer takes at least two arguments:\n",
    "# the number of possible words in the vocabulary\n",
    "# the dimensionality of the embedding\n",
    "embedding_layer = layers.Embedding(1000, 32)"
   ]
  },
  {
   "cell_type": "code",
   "execution_count": 3,
   "metadata": {
    "ExecuteTime": {
     "end_time": "2019-07-15T12:31:13.281477Z",
     "start_time": "2019-07-15T12:31:13.264406Z"
    }
   },
   "outputs": [
    {
     "data": {
      "text/plain": [
       "<tensorflow.python.keras.layers.embeddings.Embedding at 0x7f82ed5f8198>"
      ]
     },
     "execution_count": 3,
     "metadata": {},
     "output_type": "execute_result"
    }
   ],
   "source": [
    "embedding_layer"
   ]
  },
  {
   "cell_type": "code",
   "execution_count": 4,
   "metadata": {
    "ExecuteTime": {
     "end_time": "2019-07-15T12:35:03.111144Z",
     "start_time": "2019-07-15T12:35:03.106605Z"
    }
   },
   "outputs": [],
   "source": [
    "vacab_size = 10000 \n",
    "imdb = keras.datasets.imdb"
   ]
  },
  {
   "cell_type": "code",
   "execution_count": 6,
   "metadata": {
    "ExecuteTime": {
     "end_time": "2019-07-15T12:36:17.922711Z",
     "start_time": "2019-07-15T12:36:13.068886Z"
    }
   },
   "outputs": [],
   "source": [
    "(train_data, train_labels), (test_data, test_labels) = imdb.load_data(num_words=vacab_size)"
   ]
  },
  {
   "cell_type": "code",
   "execution_count": 7,
   "metadata": {
    "ExecuteTime": {
     "end_time": "2019-07-15T12:36:31.304165Z",
     "start_time": "2019-07-15T12:36:31.298307Z"
    }
   },
   "outputs": [
    {
     "name": "stdout",
     "output_type": "stream",
     "text": [
      "[1, 14, 22, 16, 43, 530, 973, 1622, 1385, 65, 458, 4468, 66, 3941, 4, 173, 36, 256, 5, 25, 100, 43, 838, 112, 50, 670, 2, 9, 35, 480, 284, 5, 150, 4, 172, 112, 167, 2, 336, 385, 39, 4, 172, 4536, 1111, 17, 546, 38, 13, 447, 4, 192, 50, 16, 6, 147, 2025, 19, 14, 22, 4, 1920, 4613, 469, 4, 22, 71, 87, 12, 16, 43, 530, 38, 76, 15, 13, 1247, 4, 22, 17, 515, 17, 12, 16, 626, 18, 2, 5, 62, 386, 12, 8, 316, 8, 106, 5, 4, 2223, 5244, 16, 480, 66, 3785, 33, 4, 130, 12, 16, 38, 619, 5, 25, 124, 51, 36, 135, 48, 25, 1415, 33, 6, 22, 12, 215, 28, 77, 52, 5, 14, 407, 16, 82, 2, 8, 4, 107, 117, 5952, 15, 256, 4, 2, 7, 3766, 5, 723, 36, 71, 43, 530, 476, 26, 400, 317, 46, 7, 4, 2, 1029, 13, 104, 88, 4, 381, 15, 297, 98, 32, 2071, 56, 26, 141, 6, 194, 7486, 18, 4, 226, 22, 21, 134, 476, 26, 480, 5, 144, 30, 5535, 18, 51, 36, 28, 224, 92, 25, 104, 4, 226, 65, 16, 38, 1334, 88, 12, 16, 283, 5, 16, 4472, 113, 103, 32, 15, 16, 5345, 19, 178, 32]\n"
     ]
    }
   ],
   "source": [
    "print(train_data[0])"
   ]
  },
  {
   "cell_type": "code",
   "execution_count": 8,
   "metadata": {
    "ExecuteTime": {
     "end_time": "2019-07-15T12:36:41.194869Z",
     "start_time": "2019-07-15T12:36:41.187229Z"
    }
   },
   "outputs": [
    {
     "data": {
      "text/plain": [
       "(25000,)"
      ]
     },
     "execution_count": 8,
     "metadata": {},
     "output_type": "execute_result"
    }
   ],
   "source": [
    "train_data.shape"
   ]
  },
  {
   "cell_type": "code",
   "execution_count": 10,
   "metadata": {
    "ExecuteTime": {
     "end_time": "2019-07-15T12:37:28.299159Z",
     "start_time": "2019-07-15T12:37:28.292276Z"
    }
   },
   "outputs": [
    {
     "data": {
      "text/plain": [
       "(218, 189)"
      ]
     },
     "execution_count": 10,
     "metadata": {},
     "output_type": "execute_result"
    }
   ],
   "source": [
    "len(train_data[0]),len(train_data[1])"
   ]
  },
  {
   "cell_type": "code",
   "execution_count": 15,
   "metadata": {
    "ExecuteTime": {
     "end_time": "2019-07-15T12:46:38.996067Z",
     "start_time": "2019-07-15T12:46:38.733501Z"
    }
   },
   "outputs": [],
   "source": [
    "# Convert the integers back to words\n",
    "word_index = imdb.get_word_index()"
   ]
  },
  {
   "cell_type": "code",
   "execution_count": 16,
   "metadata": {
    "ExecuteTime": {
     "end_time": "2019-07-15T12:46:39.837003Z",
     "start_time": "2019-07-15T12:46:39.791807Z"
    }
   },
   "outputs": [],
   "source": [
    "reverse_word_index = dict([(value,key) for (key,value) in word_index.items()])"
   ]
  },
  {
   "cell_type": "code",
   "execution_count": 17,
   "metadata": {
    "ExecuteTime": {
     "end_time": "2019-07-15T12:46:47.914808Z",
     "start_time": "2019-07-15T12:46:47.908443Z"
    }
   },
   "outputs": [
    {
     "data": {
      "text/plain": [
       "'the'"
      ]
     },
     "execution_count": 17,
     "metadata": {},
     "output_type": "execute_result"
    }
   ],
   "source": [
    "reverse_word_index[1]"
   ]
  },
  {
   "cell_type": "code",
   "execution_count": 19,
   "metadata": {
    "ExecuteTime": {
     "end_time": "2019-07-15T12:47:40.543500Z",
     "start_time": "2019-07-15T12:47:40.538060Z"
    }
   },
   "outputs": [],
   "source": [
    "def decode_review(text):\n",
    "    return ' '.join([reverse_word_index.get(i, '?') for i in text])"
   ]
  },
  {
   "cell_type": "code",
   "execution_count": 20,
   "metadata": {
    "ExecuteTime": {
     "end_time": "2019-07-15T12:47:50.414685Z",
     "start_time": "2019-07-15T12:47:50.407315Z"
    }
   },
   "outputs": [
    {
     "data": {
      "text/plain": [
       "\"the as you with out themselves powerful lets loves their becomes reaching had journalist of lot from anyone to have after out atmosphere never more room and it so heart shows to years of every never going and help moments or of every chest visual movie except her was several of enough more with is now current film as you of mine potentially unfortunately of you than him that with out themselves her get for was camp of you movie sometimes movie that with scary but and to story wonderful that in seeing in character to of 70s musicians with heart had shadows they of here that with her serious to have does when from why what have critics they is you that isn't one will very to as itself with other and in of seen over landed for anyone of and br show's to whether from than out themselves history he name half some br of and odd was two most of mean for 1 any an boat she he should is thought frog but of script you not while history he heart to real at barrel but when from one bit then have two of script their with her nobody most that with wasn't to with armed acting watch an for with heartfelt film want an\""
      ]
     },
     "execution_count": 20,
     "metadata": {},
     "output_type": "execute_result"
    }
   ],
   "source": [
    "decode_review(train_data[0])"
   ]
  },
  {
   "cell_type": "code",
   "execution_count": 21,
   "metadata": {
    "ExecuteTime": {
     "end_time": "2019-07-15T12:53:16.387891Z",
     "start_time": "2019-07-15T12:53:16.295485Z"
    }
   },
   "outputs": [],
   "source": [
    "# The first indices are reserved\n",
    "word_index = {k:(v+3) for k,v in word_index.items()}\n",
    "word_index[\"<PAD>\"] = 0\n",
    "word_index[\"<START>\"] = 1\n",
    "word_index[\"<UNK>\"] = 2  # unknown\n",
    "word_index[\"<UNUSED>\"] = 3\n",
    "\n",
    "reverse_word_index = dict([(value, key) for (key, value) in word_index.items()])"
   ]
  },
  {
   "cell_type": "code",
   "execution_count": 24,
   "metadata": {
    "ExecuteTime": {
     "end_time": "2019-07-15T12:55:17.058027Z",
     "start_time": "2019-07-15T12:55:17.052175Z"
    }
   },
   "outputs": [
    {
     "name": "stdout",
     "output_type": "stream",
     "text": [
      "[1, 14, 22, 16, 43, 530, 973, 1622, 1385, 65, 458, 4468, 66, 3941, 4, 173, 36, 256, 5, 25, 100, 43, 838, 112, 50, 670, 2, 9, 35, 480, 284, 5, 150, 4, 172, 112, 167, 2, 336, 385, 39, 4, 172, 4536, 1111, 17, 546, 38, 13, 447, 4, 192, 50, 16, 6, 147, 2025, 19, 14, 22, 4, 1920, 4613, 469, 4, 22, 71, 87, 12, 16, 43, 530, 38, 76, 15, 13, 1247, 4, 22, 17, 515, 17, 12, 16, 626, 18, 2, 5, 62, 386, 12, 8, 316, 8, 106, 5, 4, 2223, 5244, 16, 480, 66, 3785, 33, 4, 130, 12, 16, 38, 619, 5, 25, 124, 51, 36, 135, 48, 25, 1415, 33, 6, 22, 12, 215, 28, 77, 52, 5, 14, 407, 16, 82, 2, 8, 4, 107, 117, 5952, 15, 256, 4, 2, 7, 3766, 5, 723, 36, 71, 43, 530, 476, 26, 400, 317, 46, 7, 4, 2, 1029, 13, 104, 88, 4, 381, 15, 297, 98, 32, 2071, 56, 26, 141, 6, 194, 7486, 18, 4, 226, 22, 21, 134, 476, 26, 480, 5, 144, 30, 5535, 18, 51, 36, 28, 224, 92, 25, 104, 4, 226, 65, 16, 38, 1334, 88, 12, 16, 283, 5, 16, 4472, 113, 103, 32, 15, 16, 5345, 19, 178, 32]\n"
     ]
    }
   ],
   "source": [
    "print(train_data[0])"
   ]
  },
  {
   "cell_type": "code",
   "execution_count": 26,
   "metadata": {
    "ExecuteTime": {
     "end_time": "2019-07-15T13:48:16.409114Z",
     "start_time": "2019-07-15T13:48:15.313225Z"
    }
   },
   "outputs": [],
   "source": [
    "maxlen = 500\n",
    "\n",
    "train_data = keras.preprocessing.sequence.pad_sequences(train_data,\n",
    "                                                        value=word_index[\"<PAD>\"],\n",
    "                                                        padding='post',\n",
    "                                                        maxlen=maxlen)\n",
    "\n",
    "test_data = keras.preprocessing.sequence.pad_sequences(test_data,\n",
    "                                                       value=word_index[\"<PAD>\"],\n",
    "                                                       padding='post',\n",
    "                                                       maxlen=maxlen)\n",
    "\n"
   ]
  },
  {
   "cell_type": "code",
   "execution_count": 27,
   "metadata": {
    "ExecuteTime": {
     "end_time": "2019-07-15T13:48:28.300967Z",
     "start_time": "2019-07-15T13:48:28.293918Z"
    }
   },
   "outputs": [
    {
     "name": "stdout",
     "output_type": "stream",
     "text": [
      "[   1   14   22   16   43  530  973 1622 1385   65  458 4468   66 3941\n",
      "    4  173   36  256    5   25  100   43  838  112   50  670    2    9\n",
      "   35  480  284    5  150    4  172  112  167    2  336  385   39    4\n",
      "  172 4536 1111   17  546   38   13  447    4  192   50   16    6  147\n",
      " 2025   19   14   22    4 1920 4613  469    4   22   71   87   12   16\n",
      "   43  530   38   76   15   13 1247    4   22   17  515   17   12   16\n",
      "  626   18    2    5   62  386   12    8  316    8  106    5    4 2223\n",
      " 5244   16  480   66 3785   33    4  130   12   16   38  619    5   25\n",
      "  124   51   36  135   48   25 1415   33    6   22   12  215   28   77\n",
      "   52    5   14  407   16   82    2    8    4  107  117 5952   15  256\n",
      "    4    2    7 3766    5  723   36   71   43  530  476   26  400  317\n",
      "   46    7    4    2 1029   13  104   88    4  381   15  297   98   32\n",
      " 2071   56   26  141    6  194 7486   18    4  226   22   21  134  476\n",
      "   26  480    5  144   30 5535   18   51   36   28  224   92   25  104\n",
      "    4  226   65   16   38 1334   88   12   16  283    5   16 4472  113\n",
      "  103   32   15   16 5345   19  178   32    0    0    0    0    0    0\n",
      "    0    0    0    0    0    0    0    0    0    0    0    0    0    0\n",
      "    0    0    0    0    0    0    0    0    0    0    0    0    0    0\n",
      "    0    0    0    0    0    0    0    0    0    0    0    0    0    0\n",
      "    0    0    0    0    0    0    0    0    0    0    0    0    0    0\n",
      "    0    0    0    0    0    0    0    0    0    0    0    0    0    0\n",
      "    0    0    0    0    0    0    0    0    0    0    0    0    0    0\n",
      "    0    0    0    0    0    0    0    0    0    0    0    0    0    0\n",
      "    0    0    0    0    0    0    0    0    0    0    0    0    0    0\n",
      "    0    0    0    0    0    0    0    0    0    0    0    0    0    0\n",
      "    0    0    0    0    0    0    0    0    0    0    0    0    0    0\n",
      "    0    0    0    0    0    0    0    0    0    0    0    0    0    0\n",
      "    0    0    0    0    0    0    0    0    0    0    0    0    0    0\n",
      "    0    0    0    0    0    0    0    0    0    0    0    0    0    0\n",
      "    0    0    0    0    0    0    0    0    0    0    0    0    0    0\n",
      "    0    0    0    0    0    0    0    0    0    0    0    0    0    0\n",
      "    0    0    0    0    0    0    0    0    0    0    0    0    0    0\n",
      "    0    0    0    0    0    0    0    0    0    0    0    0    0    0\n",
      "    0    0    0    0    0    0    0    0    0    0    0    0    0    0\n",
      "    0    0    0    0    0    0    0    0    0    0    0    0    0    0\n",
      "    0    0    0    0    0    0    0    0    0    0]\n"
     ]
    }
   ],
   "source": [
    "print(train_data[0])"
   ]
  },
  {
   "cell_type": "code",
   "execution_count": 29,
   "metadata": {
    "ExecuteTime": {
     "end_time": "2019-07-15T13:50:13.712353Z",
     "start_time": "2019-07-15T13:50:13.536732Z"
    }
   },
   "outputs": [
    {
     "name": "stdout",
     "output_type": "stream",
     "text": [
      "WARNING:tensorflow:From /home/qintian/anaconda3/envs/tensorflow/lib/python3.7/site-packages/tensorflow/python/ops/resource_variable_ops.py:435: colocate_with (from tensorflow.python.framework.ops) is deprecated and will be removed in a future version.\n",
      "Instructions for updating:\n",
      "Colocations handled automatically by placer.\n",
      "_________________________________________________________________\n",
      "Layer (type)                 Output Shape              Param #   \n",
      "=================================================================\n",
      "embedding_1 (Embedding)      (None, 500, 16)           160000    \n",
      "_________________________________________________________________\n",
      "global_average_pooling1d (Gl (None, 16)                0         \n",
      "_________________________________________________________________\n",
      "dense (Dense)                (None, 16)                272       \n",
      "_________________________________________________________________\n",
      "dense_1 (Dense)              (None, 1)                 17        \n",
      "=================================================================\n",
      "Total params: 160,289\n",
      "Trainable params: 160,289\n",
      "Non-trainable params: 0\n",
      "_________________________________________________________________\n"
     ]
    }
   ],
   "source": [
    "# Create a simple model\n",
    "embedding_dim = 16 \n",
    "model = keras.Sequential([\n",
    "    layers.Embedding(vacab_size, embedding_dim, input_length=maxlen),\n",
    "    layers.GlobalAveragePooling1D(),\n",
    "    layers.Dense(16, activation='relu'),\n",
    "    layers.Dense(1, activation='sigmoid')\n",
    "])\n",
    "model.summary()"
   ]
  },
  {
   "cell_type": "code",
   "execution_count": 31,
   "metadata": {
    "ExecuteTime": {
     "end_time": "2019-07-15T13:51:33.444089Z",
     "start_time": "2019-07-15T13:51:33.214317Z"
    }
   },
   "outputs": [],
   "source": [
    "model.compile(optimizer='adam', loss='binary_crossentropy',\n",
    "             metrics=['accuracy'])\n"
   ]
  },
  {
   "cell_type": "code",
   "execution_count": 32,
   "metadata": {
    "ExecuteTime": {
     "end_time": "2019-07-15T13:52:25.465914Z",
     "start_time": "2019-07-15T13:52:05.421661Z"
    }
   },
   "outputs": [
    {
     "name": "stdout",
     "output_type": "stream",
     "text": [
      "Train on 20000 samples, validate on 5000 samples\n",
      "WARNING:tensorflow:From /home/qintian/anaconda3/envs/tensorflow/lib/python3.7/site-packages/tensorflow/python/ops/math_ops.py:3066: to_int32 (from tensorflow.python.ops.math_ops) is deprecated and will be removed in a future version.\n",
      "Instructions for updating:\n",
      "Use tf.cast instead.\n",
      "Epoch 1/30\n",
      "20000/20000 [==============================] - 2s 101us/sample - loss: 0.6926 - acc: 0.5315 - val_loss: 0.6916 - val_acc: 0.4942\n",
      "Epoch 2/30\n",
      "20000/20000 [==============================] - 0s 17us/sample - loss: 0.6892 - acc: 0.5645 - val_loss: 0.6861 - val_acc: 0.6912\n",
      "Epoch 3/30\n",
      "20000/20000 [==============================] - 0s 17us/sample - loss: 0.6811 - acc: 0.7032 - val_loss: 0.6748 - val_acc: 0.7278\n",
      "Epoch 4/30\n",
      "20000/20000 [==============================] - 0s 18us/sample - loss: 0.6654 - acc: 0.7308 - val_loss: 0.6545 - val_acc: 0.7562\n",
      "Epoch 5/30\n",
      "20000/20000 [==============================] - 0s 18us/sample - loss: 0.6393 - acc: 0.7624 - val_loss: 0.6239 - val_acc: 0.7628\n",
      "Epoch 6/30\n",
      "20000/20000 [==============================] - 0s 18us/sample - loss: 0.6029 - acc: 0.7870 - val_loss: 0.5841 - val_acc: 0.7934\n",
      "Epoch 7/30\n",
      "20000/20000 [==============================] - 0s 18us/sample - loss: 0.5581 - acc: 0.8106 - val_loss: 0.5388 - val_acc: 0.8216\n",
      "Epoch 8/30\n",
      "20000/20000 [==============================] - 0s 18us/sample - loss: 0.5083 - acc: 0.8403 - val_loss: 0.4939 - val_acc: 0.8270\n",
      "Epoch 9/30\n",
      "20000/20000 [==============================] - 0s 18us/sample - loss: 0.4612 - acc: 0.8561 - val_loss: 0.4527 - val_acc: 0.8458\n",
      "Epoch 10/30\n",
      "20000/20000 [==============================] - 0s 18us/sample - loss: 0.4187 - acc: 0.8698 - val_loss: 0.4191 - val_acc: 0.8558\n",
      "Epoch 11/30\n",
      "20000/20000 [==============================] - 0s 18us/sample - loss: 0.3830 - acc: 0.8777 - val_loss: 0.3912 - val_acc: 0.8636\n",
      "Epoch 12/30\n",
      "20000/20000 [==============================] - 0s 18us/sample - loss: 0.3539 - acc: 0.8847 - val_loss: 0.3707 - val_acc: 0.8660\n",
      "Epoch 13/30\n",
      "20000/20000 [==============================] - 0s 19us/sample - loss: 0.3294 - acc: 0.8910 - val_loss: 0.3534 - val_acc: 0.8716\n",
      "Epoch 14/30\n",
      "20000/20000 [==============================] - 0s 18us/sample - loss: 0.3088 - acc: 0.8974 - val_loss: 0.3399 - val_acc: 0.8736\n",
      "Epoch 15/30\n",
      "20000/20000 [==============================] - 0s 18us/sample - loss: 0.2926 - acc: 0.9017 - val_loss: 0.3292 - val_acc: 0.8752\n",
      "Epoch 16/30\n",
      "20000/20000 [==============================] - 0s 17us/sample - loss: 0.2767 - acc: 0.9049 - val_loss: 0.3256 - val_acc: 0.8716\n",
      "Epoch 17/30\n",
      "20000/20000 [==============================] - 0s 17us/sample - loss: 0.2632 - acc: 0.9096 - val_loss: 0.3131 - val_acc: 0.8794\n",
      "Epoch 18/30\n",
      "20000/20000 [==============================] - 0s 18us/sample - loss: 0.2505 - acc: 0.9140 - val_loss: 0.3061 - val_acc: 0.8832\n",
      "Epoch 19/30\n",
      "20000/20000 [==============================] - 0s 17us/sample - loss: 0.2396 - acc: 0.9175 - val_loss: 0.3011 - val_acc: 0.8842\n",
      "Epoch 20/30\n",
      "20000/20000 [==============================] - 0s 18us/sample - loss: 0.2296 - acc: 0.9201 - val_loss: 0.2979 - val_acc: 0.8838\n",
      "Epoch 21/30\n",
      "20000/20000 [==============================] - 0s 17us/sample - loss: 0.2212 - acc: 0.9223 - val_loss: 0.2933 - val_acc: 0.8874\n",
      "Epoch 22/30\n",
      "20000/20000 [==============================] - 0s 17us/sample - loss: 0.2146 - acc: 0.9256 - val_loss: 0.2909 - val_acc: 0.8892\n",
      "Epoch 23/30\n",
      "20000/20000 [==============================] - 0s 17us/sample - loss: 0.2061 - acc: 0.9287 - val_loss: 0.2892 - val_acc: 0.8882\n",
      "Epoch 24/30\n",
      "20000/20000 [==============================] - 0s 17us/sample - loss: 0.1988 - acc: 0.9313 - val_loss: 0.2858 - val_acc: 0.8906\n",
      "Epoch 25/30\n",
      "20000/20000 [==============================] - 0s 18us/sample - loss: 0.1918 - acc: 0.9327 - val_loss: 0.2852 - val_acc: 0.8902\n",
      "Epoch 26/30\n",
      "20000/20000 [==============================] - 0s 19us/sample - loss: 0.1865 - acc: 0.9348 - val_loss: 0.2846 - val_acc: 0.8906\n",
      "Epoch 27/30\n",
      "20000/20000 [==============================] - 0s 19us/sample - loss: 0.1807 - acc: 0.9377 - val_loss: 0.2842 - val_acc: 0.8894\n",
      "Epoch 28/30\n",
      "20000/20000 [==============================] - 0s 18us/sample - loss: 0.1751 - acc: 0.9394 - val_loss: 0.2817 - val_acc: 0.8918\n",
      "Epoch 29/30\n",
      "20000/20000 [==============================] - 0s 18us/sample - loss: 0.1694 - acc: 0.9434 - val_loss: 0.2814 - val_acc: 0.8950\n",
      "Epoch 30/30\n",
      "20000/20000 [==============================] - 0s 18us/sample - loss: 0.1645 - acc: 0.9442 - val_loss: 0.2836 - val_acc: 0.8902\n"
     ]
    }
   ],
   "source": [
    "history = model.fit(\n",
    "train_data,\n",
    "train_labels,\n",
    "epochs=30,\n",
    "batch_size=512,\n",
    "validation_split=0.2)"
   ]
  },
  {
   "cell_type": "code",
   "execution_count": 35,
   "metadata": {
    "ExecuteTime": {
     "end_time": "2019-07-15T13:55:00.166265Z",
     "start_time": "2019-07-15T13:55:00.160770Z"
    }
   },
   "outputs": [],
   "source": [
    "his_dic= history.history"
   ]
  },
  {
   "cell_type": "code",
   "execution_count": 36,
   "metadata": {
    "ExecuteTime": {
     "end_time": "2019-07-15T13:55:10.439208Z",
     "start_time": "2019-07-15T13:55:10.430569Z"
    }
   },
   "outputs": [
    {
     "data": {
      "text/plain": [
       "dict_items([('loss', [0.6925666880607605, 0.6892350396156312, 0.6811275929450988, 0.6653603342056275, 0.6393422235488891, 0.6029187465667725, 0.5580526273727417, 0.5083273460865021, 0.4611535402297974, 0.41865144720077513, 0.3829911268234253, 0.35387414379119875, 0.329432044839859, 0.3088108956336975, 0.29256373481750486, 0.2766929392814636, 0.2632266904830933, 0.25047496478557585, 0.23960011286735536, 0.22957043948173522, 0.22122593522071837, 0.21461875309944153, 0.20614261617660523, 0.1987708675146103, 0.1918449288368225, 0.18648475559949876, 0.18070422739982606, 0.17514012260437012, 0.1694123791217804, 0.1645164566040039]), ('acc', [0.53155, 0.5645, 0.70325, 0.73075, 0.76245, 0.787, 0.81065, 0.84035, 0.8561, 0.86975, 0.87765, 0.8847, 0.891, 0.89735, 0.9017, 0.9049, 0.9096, 0.91405, 0.91745, 0.9201, 0.9223, 0.9256, 0.92865, 0.9313, 0.93265, 0.93475, 0.93775, 0.9394, 0.94345, 0.94425]), ('val_loss', [0.6916154224395752, 0.6861252544403076, 0.6748137985229492, 0.6545472714424133, 0.6239050071716309, 0.5840979944229125, 0.5388204258918762, 0.493901012802124, 0.45265758895874025, 0.4190592472076416, 0.3911712028026581, 0.3706944131374359, 0.3533770177841187, 0.3398502094745636, 0.3291843891620636, 0.325611854839325, 0.3130694305896759, 0.306126172208786, 0.30112137966156005, 0.29787658138275147, 0.29327748250961305, 0.2909141139984131, 0.28918239464759826, 0.28582034287452696, 0.28523707242012025, 0.2846318025112152, 0.2842272801876068, 0.2816802167892456, 0.28142367963790893, 0.28355570454597473]), ('val_acc', [0.4942, 0.6912, 0.7278, 0.7562, 0.7628, 0.7934, 0.8216, 0.827, 0.8458, 0.8558, 0.8636, 0.866, 0.8716, 0.8736, 0.8752, 0.8716, 0.8794, 0.8832, 0.8842, 0.8838, 0.8874, 0.8892, 0.8882, 0.8906, 0.8902, 0.8906, 0.8894, 0.8918, 0.895, 0.8902])])"
      ]
     },
     "execution_count": 36,
     "metadata": {},
     "output_type": "execute_result"
    }
   ],
   "source": [
    "his_dic.items()"
   ]
  },
  {
   "cell_type": "code",
   "execution_count": 37,
   "metadata": {
    "ExecuteTime": {
     "end_time": "2019-07-15T13:55:39.539554Z",
     "start_time": "2019-07-15T13:55:38.781787Z"
    }
   },
   "outputs": [
    {
     "data": {
      "image/png": "[encoded data removed]",
      "text/plain": [
       "<Figure size 864x648 with 1 Axes>"
      ]
     },
     "metadata": {
      "needs_background": "light"
     },
     "output_type": "display_data"
    },
    {
     "data": {
      "image/png": "[encoded data removed]",
      "text/plain": [
       "<Figure size 864x648 with 1 Axes>"
      ]
     },
     "metadata": {
      "needs_background": "light"
     },
     "output_type": "display_data"
    }
   ],
   "source": [
    "import matplotlib.pyplot as plt\n",
    "\n",
    "history_dict = history.history\n",
    "\n",
    "acc = history_dict['acc']\n",
    "val_acc = history_dict['val_acc']\n",
    "loss = history_dict['loss']\n",
    "val_loss = history_dict['val_loss']\n",
    "\n",
    "epochs = range(1, len(acc) + 1)\n",
    "\n",
    "plt.figure(figsize=(12,9))\n",
    "plt.plot(epochs, loss, 'bo', label='Training loss')\n",
    "plt.plot(epochs, val_loss, 'b', label='Validation loss')\n",
    "plt.title('Training and validation loss')\n",
    "plt.xlabel('Epochs')\n",
    "plt.ylabel('Loss')\n",
    "plt.legend()\n",
    "plt.show()\n",
    "\n",
    "plt.figure(figsize=(12,9))\n",
    "plt.plot(epochs, acc, 'bo', label='Training acc')\n",
    "plt.plot(epochs, val_acc, 'b', label='Validation acc')\n",
    "plt.title('Training and validation accuracy')\n",
    "plt.xlabel('Epochs')\n",
    "plt.ylabel('Accuracy')\n",
    "plt.legend(loc='lower right')\n",
    "plt.ylim((0.5,1))\n",
    "plt.show()"
   ]
  },
  {
   "cell_type": "code",
   "execution_count": 41,
   "metadata": {
    "ExecuteTime": {
     "end_time": "2019-07-15T13:58:30.492677Z",
     "start_time": "2019-07-15T13:58:30.483304Z"
    }
   },
   "outputs": [
    {
     "name": "stdout",
     "output_type": "stream",
     "text": [
      "(10000, 16)\n"
     ]
    }
   ],
   "source": [
    "# Retrieve the learned embeddings\n",
    "# Let's retrieve the word embeddings learned during trainning\n",
    "# This will be a matrix of shape (vocab_size, embedding_dim)\n",
    "\n",
    "e = model.layers[0]\n",
    "weights = e.get_weights()[0]\n",
    "print(weights.shape)"
   ]
  },
  {
   "cell_type": "markdown",
   "metadata": {},
   "source": [
    "We will now write the weights to disk. To use the Embedding Projector, we will upload two files in tab seperated format: a file of vectors (containing the embedding), and a file of meta data (containing the words)."
   ]
  },
  {
   "cell_type": "code",
   "execution_count": 43,
   "metadata": {
    "ExecuteTime": {
     "end_time": "2019-07-15T14:05:46.716949Z",
     "start_time": "2019-07-15T14:05:46.517084Z"
    }
   },
   "outputs": [],
   "source": [
    "import io \n",
    "\n",
    "out_v = io.open('vecs.tsv', 'w', encoding='utf-8')\n",
    "out_m = io.open('meta.tsv', 'w', encoding='utf-8')\n",
    "\n",
    "for word_num in range(vacab_size):\n",
    "    word = reverse_word_index[word_num]\n",
    "    embeddings = weights[word_num]\n",
    "    out_m.write(word + \"\\n\")\n",
    "    out_v.write('\\t'.join([str(x) for x in embeddings]) + \"\\n\")\n",
    "out_v.close()\n",
    "out_m.close()"
   ]
  },
  {
   "cell_type": "code",
   "execution_count": null,
   "metadata": {},
   "outputs": [],
   "source": []
  }
 ],
 "metadata": {
  "kernelspec": {
   "display_name": "Python 3",
   "language": "python",
   "name": "python3"
  },
  "language_info": {
   "codemirror_mode": {
    "name": "ipython",
    "version": 3
   },
   "file_extension": ".py",
   "mimetype": "text/x-python",
   "name": "python",
   "nbconvert_exporter": "python",
   "pygments_lexer": "ipython3",
   "version": "3.7.3"
  },
  "latex_envs": {
   "LaTeX_envs_menu_present": true,
   "autoclose": false,
   "autocomplete": true,
   "bibliofile": "biblio.bib",
   "cite_by": "apalike",
   "current_citInitial": 1,
   "eqLabelWithNumbers": true,
   "eqNumInitial": 1,
   "hotkeys": {
    "equation": "Ctrl-E",
    "itemize": "Ctrl-I"
   },
   "labels_anchors": false,
   "latex_user_defs": false,
   "report_style_numbering": false,
   "user_envs_cfg": false
  },
  "toc": {
   "base_numbering": 1,
   "nav_menu": {},
   "number_sections": true,
   "sideBar": true,
   "skip_h1_title": false,
   "title_cell": "Table of Contents",
   "title_sidebar": "Contents",
   "toc_cell": false,
   "toc_position": {},
   "toc_section_display": true,
   "toc_window_display": false
  },
  "varInspector": {
   "cols": {
    "lenName": 16,
    "lenType": 16,
    "lenVar": 40
   },
   "kernels_config": {
    "python": {
     "delete_cmd_postfix": "",
     "delete_cmd_prefix": "del ",
     "library": "var_list.py",
     "varRefreshCmd": "print(var_dic_list())"
    },
    "r": {
     "delete_cmd_postfix": ") ",
     "delete_cmd_prefix": "rm(",
     "library": "var_list.r",
     "varRefreshCmd": "cat(var_dic_list()) "
    }
   },
   "types_to_exclude": [
    "module",
    "function",
    "builtin_function_or_method",
    "instance",
    "_Feature"
   ],
   "window_display": false
  }
 },
 "nbformat": 4,
 "nbformat_minor": 2
}
