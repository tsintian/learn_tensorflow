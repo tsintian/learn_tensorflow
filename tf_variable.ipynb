{
 "cells": [
  {
   "cell_type": "markdown",
   "metadata": {},
   "source": [
    "`tf.get_variable`中变量的重复利用，`reuse`关键字为`True`的时候表示用`tf.get_variable` 得到的变量可以在别的地方重复使用"
   ]
  },
  {
   "cell_type": "code",
   "execution_count": 1,
   "metadata": {
    "ExecuteTime": {
     "end_time": "2019-08-30T13:50:32.020420Z",
     "start_time": "2019-08-30T13:50:30.658443Z"
    }
   },
   "outputs": [],
   "source": [
    "import tensorflow as tf \n",
    "import numpy as np \n",
    "import matplotlib.pyplot as plt "
   ]
  },
  {
   "cell_type": "code",
   "execution_count": 3,
   "metadata": {
    "ExecuteTime": {
     "end_time": "2019-08-30T13:50:44.962736Z",
     "start_time": "2019-08-30T13:50:44.937650Z"
    }
   },
   "outputs": [
    {
     "name": "stdout",
     "output_type": "stream",
     "text": [
      "[1.]\n",
      "[1.]\n",
      "[1.]\n"
     ]
    }
   ],
   "source": [
    "tf.reset_default_graph()\n",
    "\n",
    "constant_init = tf.constant_initializer([1])\n",
    "\n",
    "with tf.variable_scope('V1'):\n",
    "    a1 = tf.get_variable(name='a1', shape=[1], initializer=constant_init)\n",
    "with tf.variable_scope('V1',reuse=True):\n",
    "    a3 = tf.get_variable('a1')\n",
    "\n",
    "\n",
    "\n",
    "with tf.Session() as sess:\n",
    "   \n",
    "    sess.run(tf.global_variables_initializer())\n",
    "    print(sess.run(a1))\n",
    "    print(sess.run(a3.name))\n",
    "    print(sess.run(a3))"
   ]
  },
  {
   "cell_type": "code",
   "execution_count": 4,
   "metadata": {
    "ExecuteTime": {
     "end_time": "2019-08-30T13:50:46.561314Z",
     "start_time": "2019-08-30T13:50:46.536636Z"
    }
   },
   "outputs": [
    {
     "name": "stdout",
     "output_type": "stream",
     "text": [
      "V1/a1:0\n",
      "[1.]\n",
      "V1/a1:0\n",
      "[1.]\n"
     ]
    }
   ],
   "source": [
    "tf.reset_default_graph()\n",
    "\n",
    "with tf.variable_scope('V1') as scope:\n",
    "    a1 = tf.get_variable(name='a1',\n",
    "                         shape=[1],\n",
    "                         initializer=tf.constant_initializer(1))\n",
    "    scope.reuse_variables()\n",
    "    a3 = tf.get_variable('a1')\n",
    "\n",
    "with tf.Session() as sess:\n",
    "    sess.run(tf.global_variables_initializer())\n",
    "    print(a1.name)\n",
    "    print(sess.run(a1))\n",
    "    print(a3.name)\n",
    "    print(sess.run(a3))"
   ]
  },
  {
   "cell_type": "code",
   "execution_count": 5,
   "metadata": {
    "ExecuteTime": {
     "end_time": "2019-08-30T13:50:48.751483Z",
     "start_time": "2019-08-30T13:50:48.727330Z"
    }
   },
   "outputs": [
    {
     "name": "stdout",
     "output_type": "stream",
     "text": [
      "Tensor(\"Space_a/Const:0\", shape=(3,), dtype=int32)\n",
      "Tensor(\"Space_b/Const:0\", shape=(3,), dtype=int32)\n",
      "Tensor(\"Space_c/add:0\", shape=(3,), dtype=int32)\n",
      "Tensor(\"add:0\", shape=(3,), dtype=int32)\n",
      "[5 7 9]\n",
      "[5 7 9]\n"
     ]
    }
   ],
   "source": [
    "tf.reset_default_graph()\n",
    "with tf.variable_scope('Space_a'):\n",
    "    a = tf.constant([1, 2, 3])\n",
    "with tf.variable_scope('Space_b'):\n",
    "    b = tf.constant([4, 5, 6])\n",
    "with tf.variable_scope('Space_c'):\n",
    "    c = a + b\n",
    "\n",
    "d = a + b\n",
    "\n",
    "with tf.Session() as sess:\n",
    "    print(a)\n",
    "    print(b)\n",
    "    print(c)\n",
    "    print(d)\n",
    "    print(sess.run(c))\n",
    "    print(sess.run(d))"
   ]
  },
  {
   "cell_type": "code",
   "execution_count": null,
   "metadata": {},
   "outputs": [],
   "source": []
  },
  {
   "cell_type": "code",
   "execution_count": null,
   "metadata": {},
   "outputs": [],
   "source": []
  }
 ],
 "metadata": {
  "kernelspec": {
   "display_name": "Python 3",
   "language": "python",
   "name": "python3"
  },
  "language_info": {
   "codemirror_mode": {
    "name": "ipython",
    "version": 3
   },
   "file_extension": ".py",
   "mimetype": "text/x-python",
   "name": "python",
   "nbconvert_exporter": "python",
   "pygments_lexer": "ipython3",
   "version": "3.7.3"
  },
  "latex_envs": {
   "LaTeX_envs_menu_present": true,
   "autoclose": false,
   "autocomplete": true,
   "bibliofile": "biblio.bib",
   "cite_by": "apalike",
   "current_citInitial": 1,
   "eqLabelWithNumbers": true,
   "eqNumInitial": 1,
   "hotkeys": {
    "equation": "Ctrl-E",
    "itemize": "Ctrl-I"
   },
   "labels_anchors": false,
   "latex_user_defs": false,
   "report_style_numbering": false,
   "user_envs_cfg": false
  },
  "toc": {
   "base_numbering": 1,
   "nav_menu": {},
   "number_sections": true,
   "sideBar": true,
   "skip_h1_title": false,
   "title_cell": "Table of Contents",
   "title_sidebar": "Contents",
   "toc_cell": false,
   "toc_position": {},
   "toc_section_display": true,
   "toc_window_display": false
  },
  "varInspector": {
   "cols": {
    "lenName": 16,
    "lenType": 16,
    "lenVar": 40
   },
   "kernels_config": {
    "python": {
     "delete_cmd_postfix": "",
     "delete_cmd_prefix": "del ",
     "library": "var_list.py",
     "varRefreshCmd": "print(var_dic_list())"
    },
    "r": {
     "delete_cmd_postfix": ") ",
     "delete_cmd_prefix": "rm(",
     "library": "var_list.r",
     "varRefreshCmd": "cat(var_dic_list()) "
    }
   },
   "types_to_exclude": [
    "module",
    "function",
    "builtin_function_or_method",
    "instance",
    "_Feature"
   ],
   "window_display": false
  }
 },
 "nbformat": 4,
 "nbformat_minor": 2
}
