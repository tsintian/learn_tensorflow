{
 "cells": [
  {
   "cell_type": "code",
   "execution_count": 1,
   "metadata": {
    "collapsed": true
   },
   "outputs": [],
   "source": [
    "import tensorflow as tf\n",
    "import matplotlib.pyplot as plt\n",
    "import numpy as np\n",
    "import math\n",
    "# Improt MNIST data\n",
    "from tensorflow.examples.tutorials.mnist import input_data\n",
    "\n",
    "\n"
   ]
  },
  {
   "cell_type": "markdown",
   "metadata": {},
   "source": [
    "## Update step \n",
    "The update step for the simple vanilla RNN\n",
    "$$h_t = \\tanh(W_xX_t + W_hh_(t-1) + b)$$\n",
    "Where $W_h$, $W_x$ and $b$ are weight and bias variables we learn, $\\tanh(.)$ is the hyperbolic tangent function that has its range in [-1,1].\n",
    "$$ \\tanh(z) = \\frac{\\sinh(z)}{\\cosh(z)} =\\frac{e^z - e^{-z}}{e^z + e^{-z}} $$\n",
    "\n",
    "The graph of hyperbolic tangent function will look like below."
   ]
  },
  {
   "cell_type": "code",
   "execution_count": 2,
   "metadata": {},
   "outputs": [
    {
     "data": {
      "image/png": "[encoded data removed]",
      "text/plain": [
       "<matplotlib.figure.Figure at 0x7f21801d0eb8>"
      ]
     },
     "metadata": {},
     "output_type": "display_data"
    }
   ],
   "source": [
    "z = np.arange(-5,5,0.1)\n",
    "plt.plot(z, np.tanh(z))\n",
    "plt.axvline(0,color='k', lineStyle='solid')\n",
    "plt.axhline(0, color='k', lineStyle='solid')\n",
    "plt.show()"
   ]
  },
  {
   "cell_type": "code",
   "execution_count": null,
   "metadata": {},
   "outputs": [],
   "source": [
    "mnist = input_data.read_data_sets(\"./data/\", one_hot=True)\n",
    "\n",
    "# Define some parameters.\n",
    "element_size = 28 # the dimension of each vector in the sequence.\n",
    "time_steps = 28 # the number of such element in a sequence.\n",
    "num_classes = 10\n",
    "batch_size = 128\n",
    "hidden_layer_size = 128\n",
    "\n",
    "# Where to save TensorBoard model summaries\n",
    "LOG_DIR = \"./logs/RNN_with_summaries\"\n",
    "\n",
    "# Create placeholders for inputs, labels\n",
    "_inputs = tf.placeholder(tf.float32, shape=[None, time_steps, \n",
    "                                            element_size],name=\"inputs\")\n",
    "\n",
    "y = tf.placeholder(tf.float32, shape=[None,num_classes], name=\"labels\")\n",
    "\n",
    "batch_x, batch_y = mnist.train.next_batch(batch_size)\n",
    "# Reshape data to get 28 sequences of 28 pixels.\n",
    "batch_x = batch_x.reshape((batch_size, time_steps, element_size))\n",
    "\n",
    "# Create a function used for logging summaries.\n",
    "def variable_summaries(var):\n",
    "    with tf.name_scope('summaries'):\n",
    "        mean = tf.reduce_mean(var)\n",
    "        tf.summary.scalar('mean', mean)\n",
    "        with tf.name_scope('stddev'):\n",
    "            stddev = tf.sqrt(tf.reduce_mean(tf.square(var -mean)))\n",
    "        tf.summary.scalar('stddev', stddev)\n",
    "        tf.summary.scalar('max', tf.reduce_max(var))\n",
    "        tf.summary.scalar('min', tf.reduce_min(var))\n",
    "        tf.summary.histogram('histgram', var)\n",
    "\n",
    "# Weights and bias for input and hidden layer.\n",
    "with tf.name_scope('rnn_weights'):\n",
    "    with tf.name_scope(\"W_x\"):\n",
    "        Wx = tf.Variable(tf.zeros([element_size,hidden_layer_size]))\n",
    "        variable_summaries(Wx)\n",
    "    with tf.name_scope(\"W_h\"):\n",
    "        Wh = tf.Variable(tf.zeros([hidden_layer_size,hidden_layer_size]))\n",
    "        variable_summaries(Wh)\n",
    "    with tf.name_scope(\"Bias\"):\n",
    "        b_rnn = tf.Variable(tf.zeros([hidden_layer_size]))\n",
    "        variable_summaries(b_rnn)\n",
    "        \n",
    "# Define the RNN step with tf.scan()\n",
    "def rnn_step(previous_hidden_state, x):\n",
    "    current_hidden_state = tf.tanh(\n",
    "    tf.matmul(previous_hidden_state, Wh)+ tf.matmul(x, Wx) + b_rnn)\n",
    "    return current_hidden_state\n",
    "# Processing inputs to work with scan function\n",
    "# Current input shape: (batch_size, time_steps, element_size)\n",
    "processed_input = tf.transpose(_inputs, perm=[1,0,2])\n",
    "# Current input shape now: (time_steps, batch_size, element_size)\n",
    "\n",
    "initial_hidden = tf.zeros([batch_size, hidden_layer_size])\n",
    "# Getting all state vectors across time\n",
    "all_hidden_states = tf.scan(rnn_step, processed_input, \n",
    "                            initializer=initial_hidden,\n",
    "                           name='states')\n",
    "\n"
   ]
  },
  {
   "cell_type": "markdown",
   "metadata": {},
   "source": [
    "### Sequential outputs"
   ]
  },
  {
   "cell_type": "code",
   "execution_count": null,
   "metadata": {
    "collapsed": true
   },
   "outputs": [],
   "source": [
    "# Weights for output layers.\n",
    "with tf.name_scope('linear_layer_weights') as scope:\n",
    "    with tf.name_scope('W_linear'):\n",
    "        "
   ]
  },
  {
   "cell_type": "markdown",
   "metadata": {},
   "source": []
  },
  {
   "cell_type": "markdown",
   "metadata": {
    "collapsed": true
   },
   "source": [
    "\n",
    "\n",
    "\n",
    "\n",
    "\n",
    "\n",
    "\n",
    "\n",
    "\n",
    "\n",
    "\n",
    "\n",
    "\n",
    "\n",
    "\n",
    "\n",
    "\n",
    "\n",
    "\n"
   ]
  }
 ],
 "metadata": {
  "kernelspec": {
   "display_name": "Python [conda env:tensorflow]",
   "language": "python",
   "name": "conda-env-tensorflow-py"
  },
  "language_info": {
   "codemirror_mode": {
    "name": "ipython",
    "version": 3
   },
   "file_extension": ".py",
   "mimetype": "text/x-python",
   "name": "python",
   "nbconvert_exporter": "python",
   "pygments_lexer": "ipython3",
   "version": "3.6.1"
  }
 },
 "nbformat": 4,
 "nbformat_minor": 2
}
