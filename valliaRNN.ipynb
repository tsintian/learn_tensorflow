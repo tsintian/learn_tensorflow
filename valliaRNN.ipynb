{
 "cells": [
  {
   "cell_type": "code",
   "execution_count": 7,
   "metadata": {
    "collapsed": true
   },
   "outputs": [],
   "source": [
    "import tensorflow as tf\n",
    "import matplotlib.pyplot as plt\n",
    "import numpy as np\n",
    "import math\n"
   ]
  },
  {
   "cell_type": "markdown",
   "metadata": {},
   "source": [
    "## Update step \n",
    "The update step for the simple vanilla RNN\n",
    "$$h_t = \\tanh(W_xX_t + W_hh_(t-1) + b)$$\n",
    "Where $W_h$, $W_x$ and $b$ are weight and bias variables we learn, $\\tanh(.)$ is the hyperbolic tangent function that has its range in [-1,1].\n",
    "$$ \\tanh(z) = \\frac{\\sinh(z)}{\\cosh(z)} =\\frac{e^z - e^{-z}}{e^z + e^{-z}} $$\n",
    "\n",
    "The graph of hyperbolic tangent function will look like below."
   ]
  },
  {
   "cell_type": "code",
   "execution_count": 13,
   "metadata": {},
   "outputs": [
    {
     "name": "stdout",
     "output_type": "stream",
     "text": [
      "[ -5.00000000e+00  -4.90000000e+00  -4.80000000e+00  -4.70000000e+00\n",
      "  -4.60000000e+00  -4.50000000e+00  -4.40000000e+00  -4.30000000e+00\n",
      "  -4.20000000e+00  -4.10000000e+00  -4.00000000e+00  -3.90000000e+00\n",
      "  -3.80000000e+00  -3.70000000e+00  -3.60000000e+00  -3.50000000e+00\n",
      "  -3.40000000e+00  -3.30000000e+00  -3.20000000e+00  -3.10000000e+00\n",
      "  -3.00000000e+00  -2.90000000e+00  -2.80000000e+00  -2.70000000e+00\n",
      "  -2.60000000e+00  -2.50000000e+00  -2.40000000e+00  -2.30000000e+00\n",
      "  -2.20000000e+00  -2.10000000e+00  -2.00000000e+00  -1.90000000e+00\n",
      "  -1.80000000e+00  -1.70000000e+00  -1.60000000e+00  -1.50000000e+00\n",
      "  -1.40000000e+00  -1.30000000e+00  -1.20000000e+00  -1.10000000e+00\n",
      "  -1.00000000e+00  -9.00000000e-01  -8.00000000e-01  -7.00000000e-01\n",
      "  -6.00000000e-01  -5.00000000e-01  -4.00000000e-01  -3.00000000e-01\n",
      "  -2.00000000e-01  -1.00000000e-01  -1.77635684e-14   1.00000000e-01\n",
      "   2.00000000e-01   3.00000000e-01   4.00000000e-01   5.00000000e-01\n",
      "   6.00000000e-01   7.00000000e-01   8.00000000e-01   9.00000000e-01\n",
      "   1.00000000e+00   1.10000000e+00   1.20000000e+00   1.30000000e+00\n",
      "   1.40000000e+00   1.50000000e+00   1.60000000e+00   1.70000000e+00\n",
      "   1.80000000e+00   1.90000000e+00   2.00000000e+00   2.10000000e+00\n",
      "   2.20000000e+00   2.30000000e+00   2.40000000e+00   2.50000000e+00\n",
      "   2.60000000e+00   2.70000000e+00   2.80000000e+00   2.90000000e+00\n",
      "   3.00000000e+00   3.10000000e+00   3.20000000e+00   3.30000000e+00\n",
      "   3.40000000e+00   3.50000000e+00   3.60000000e+00   3.70000000e+00\n",
      "   3.80000000e+00   3.90000000e+00   4.00000000e+00   4.10000000e+00\n",
      "   4.20000000e+00   4.30000000e+00   4.40000000e+00   4.50000000e+00\n",
      "   4.60000000e+00   4.70000000e+00   4.80000000e+00   4.90000000e+00]\n"
     ]
    }
   ],
   "source": [
    "z = np.arange(-5,5,0.1)\n",
    "print(z)"
   ]
  },
  {
   "cell_type": "code",
   "execution_count": 19,
   "metadata": {},
   "outputs": [
    {
     "data": {
      "image/png": "[encoded data removed]",
      "text/plain": [
       "<matplotlib.figure.Figure at 0x7fb94d01f630>"
      ]
     },
     "metadata": {},
     "output_type": "display_data"
    }
   ],
   "source": [
    "plt.plot(z, np.tanh(z))\n",
    "plt.axvline(0,color='k', lineStyle='solid')\n",
    "plt.axhline(0, color='k', lineStyle='solid')\n",
    "plt.show()"
   ]
  },
  {
   "cell_type": "code",
   "execution_count": null,
   "metadata": {
    "collapsed": true
   },
   "outputs": [],
   "source": []
  }
 ],
 "metadata": {
  "kernelspec": {
   "display_name": "Python [conda env:tensorflow]",
   "language": "python",
   "name": "conda-env-tensorflow-py"
  },
  "language_info": {
   "codemirror_mode": {
    "name": "ipython",
    "version": 3
   },
   "file_extension": ".py",
   "mimetype": "text/x-python",
   "name": "python",
   "nbconvert_exporter": "python",
   "pygments_lexer": "ipython3",
   "version": "3.6.1"
  }
 },
 "nbformat": 4,
 "nbformat_minor": 2
}
